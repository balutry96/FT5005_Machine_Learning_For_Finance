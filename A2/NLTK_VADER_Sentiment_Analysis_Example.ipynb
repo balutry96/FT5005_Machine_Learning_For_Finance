{
 "cells": [
  {
   "cell_type": "markdown",
   "id": "774678fd",
   "metadata": {},
   "source": [
    "\n",
    "# Sentiment Analysis with NLTK's VADER\n",
    "\n",
    "This notebook demonstrates how to perform sentiment analysis using the VADER tool within the NLTK library. VADER (Valence Aware Dictionary and sEntiment Reasoner) is a lexicon and rule-based sentiment analysis tool that is specifically attuned to sentiments expressed in social media.\n",
    "\n",
    "## Setup\n",
    "\n",
    "First, we'll install and import the necessary NLTK library and download the VADER lexicon.\n"
   ]
  },
  {
   "cell_type": "code",
   "execution_count": 1,
   "id": "5c487ddf",
   "metadata": {},
   "outputs": [
    {
     "name": "stdout",
     "output_type": "stream",
     "text": [
      "Defaulting to user installation because normal site-packages is not writeable\n",
      "Requirement already satisfied: nltk in c:\\users\\kewei\\appdata\\roaming\\python\\python310\\site-packages (3.8.1)\n",
      "Requirement already satisfied: click in c:\\programdata\\anaconda3\\lib\\site-packages (from nltk) (8.0.4)\n",
      "Requirement already satisfied: joblib in c:\\users\\kewei\\appdata\\roaming\\python\\python310\\site-packages (from nltk) (1.3.2)\n",
      "Requirement already satisfied: tqdm in c:\\programdata\\anaconda3\\lib\\site-packages (from nltk) (4.64.1)\n",
      "Requirement already satisfied: regex>=2021.8.3 in c:\\programdata\\anaconda3\\lib\\site-packages (from nltk) (2022.7.9)\n",
      "Requirement already satisfied: colorama in c:\\programdata\\anaconda3\\lib\\site-packages (from click->nltk) (0.4.6)\n"
     ]
    },
    {
     "name": "stderr",
     "output_type": "stream",
     "text": [
      "WARNING: Ignoring invalid distribution -rotobuf (c:\\users\\kewei\\appdata\\roaming\\python\\python310\\site-packages)\n",
      "WARNING: Ignoring invalid distribution -rotobuf (c:\\users\\kewei\\appdata\\roaming\\python\\python310\\site-packages)\n",
      "WARNING: Ignoring invalid distribution -rotobuf (c:\\users\\kewei\\appdata\\roaming\\python\\python310\\site-packages)\n",
      "WARNING: Ignoring invalid distribution -rotobuf (c:\\users\\kewei\\appdata\\roaming\\python\\python310\\site-packages)\n",
      "WARNING: Ignoring invalid distribution -rotobuf (c:\\users\\kewei\\appdata\\roaming\\python\\python310\\site-packages)\n",
      "WARNING: Ignoring invalid distribution -rotobuf (c:\\users\\kewei\\appdata\\roaming\\python\\python310\\site-packages)\n"
     ]
    }
   ],
   "source": [
    "!pip install nltk"
   ]
  },
  {
   "cell_type": "code",
   "execution_count": 2,
   "id": "b46868c3",
   "metadata": {},
   "outputs": [
    {
     "name": "stderr",
     "output_type": "stream",
     "text": [
      "[nltk_data] Downloading package vader_lexicon to C:\\nltk_data...\n",
      "[nltk_data]   Package vader_lexicon is already up-to-date!\n"
     ]
    },
    {
     "data": {
      "text/plain": [
       "True"
      ]
     },
     "execution_count": 2,
     "metadata": {},
     "output_type": "execute_result"
    }
   ],
   "source": [
    "import nltk\n",
    "from nltk.sentiment.vader import SentimentIntensityAnalyzer\n",
    "\n",
    "# Download VADER lexicon\n",
    "nltk.download('vader_lexicon')"
   ]
  },
  {
   "cell_type": "markdown",
   "id": "bb79d954",
   "metadata": {},
   "source": [
    "\n",
    "## Analyzing Sentiment\n",
    "\n",
    "With VADER, we can analyze the sentiment of text. The `SentimentIntensityAnalyzer` provides a `polarity_scores` method which returns a dictionary with the scores for various forms of sentiment, including 'neg' (negative), 'neu' (neutral), 'pos' (positive), and 'compound' (an aggregated score that sums the valence scores of each word in the lexicon, adjusted according to the rules, and then normalized).\n"
   ]
  },
  {
   "cell_type": "code",
   "execution_count": 3,
   "id": "600595f4",
   "metadata": {},
   "outputs": [
    {
     "name": "stdout",
     "output_type": "stream",
     "text": [
      "{'neg': 0.0, 'neu': 1.0, 'pos': 0.0, 'compound': 0.0}\n"
     ]
    }
   ],
   "source": [
    "# Instantiate the analyzer\n",
    "sia = SentimentIntensityAnalyzer()\n",
    "\n",
    "# Example text\n",
    "text = \"NLTK is a leading platform for building Python programs to work with human language data.\"\n",
    "\n",
    "# Obtain polarity scores\n",
    "scores = sia.polarity_scores(text)\n",
    "print(scores)"
   ]
  },
  {
   "cell_type": "code",
   "execution_count": 4,
   "id": "91f768b8",
   "metadata": {},
   "outputs": [
    {
     "name": "stdout",
     "output_type": "stream",
     "text": [
      "Text with Emojis: {'neg': 0.0, 'neu': 0.323, 'pos': 0.677, 'compound': 0.6369}\n"
     ]
    }
   ],
   "source": [
    "# Example text with emojis\n",
    "text_with_emojis = \"I love python programming 😊\"\n",
    "\n",
    "# Obtain polarity scores\n",
    "emoji_scores = sia.polarity_scores(text_with_emojis)\n",
    "print(\"Text with Emojis:\", emoji_scores)"
   ]
  },
  {
   "cell_type": "code",
   "execution_count": 5,
   "id": "78c34eb2",
   "metadata": {},
   "outputs": [
    {
     "name": "stdout",
     "output_type": "stream",
     "text": [
      "Slang and Acronyms: {'neg': 0.0, 'neu': 0.586, 'pos': 0.414, 'compound': 0.5473}\n"
     ]
    }
   ],
   "source": [
    "# Example text with slang and acronyms\n",
    "slang_text = \"LOL, this new movie is LIT 🔥\"\n",
    "\n",
    "# Obtain polarity scores\n",
    "slang_scores = sia.polarity_scores(slang_text)\n",
    "print(\"Slang and Acronyms:\", slang_scores)"
   ]
  },
  {
   "cell_type": "code",
   "execution_count": 6,
   "id": "a14167c1",
   "metadata": {},
   "outputs": [
    {
     "name": "stdout",
     "output_type": "stream",
     "text": [
      "Capitalized: {'neg': 0.673, 'neu': 0.327, 'pos': 0.0, 'compound': -0.628}\n",
      "Not Capitalized: {'neg': 0.629, 'neu': 0.371, 'pos': 0.0, 'compound': -0.5255}\n"
     ]
    }
   ],
   "source": [
    "# Example text with Capitlization\n",
    "text1 = \"This is TERRIBLE!\"\n",
    "print(\"Capitalized:\", sia.polarity_scores(text1))\n",
    "\n",
    "text2 = \"This is Terrible!\"\n",
    "print(\"Not Capitalized:\", sia.polarity_scores(text2))"
   ]
  }
 ],
 "metadata": {
  "kernelspec": {
   "display_name": "Python 3 (ipykernel)",
   "language": "python",
   "name": "python3"
  },
  "language_info": {
   "codemirror_mode": {
    "name": "ipython",
    "version": 3
   },
   "file_extension": ".py",
   "mimetype": "text/x-python",
   "name": "python",
   "nbconvert_exporter": "python",
   "pygments_lexer": "ipython3",
   "version": "3.11.4"
  }
 },
 "nbformat": 4,
 "nbformat_minor": 5
}
